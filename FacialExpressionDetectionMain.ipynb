{
  "nbformat": 4,
  "nbformat_minor": 0,
  "metadata": {
    "colab": {
      "provenance": [],
      "authorship_tag": "ABX9TyN7X8/+Oz9ljC2txnMAm0Lf",
      "include_colab_link": true
    },
    "kernelspec": {
      "name": "python3",
      "display_name": "Python 3"
    },
    "language_info": {
      "name": "python"
    }
  },
  "cells": [
    {
      "cell_type": "markdown",
      "metadata": {
        "id": "view-in-github",
        "colab_type": "text"
      },
      "source": [
        "<a href=\"https://colab.research.google.com/github/Narennnnn/EmoNet-Deep-Learning-for-Facial-Expression-Recognition/blob/main/FacialExpressionDetectionMain.ipynb\" target=\"_parent\"><img src=\"https://colab.research.google.com/assets/colab-badge.svg\" alt=\"Open In Colab\"/></a>"
      ]
    },
    {
      "cell_type": "code",
      "execution_count": 4,
      "metadata": {
        "id": "p1V288EQohk2"
      },
      "outputs": [],
      "source": [
        "import os\n",
        "import numpy as np\n",
        "import pandas as pd\n",
        "import matplotlib.pyplot as plt\n",
        "import tensorflow as tf\n",
        "from sklearn.model_selection import train_test_split\n",
        "from sklearn.metrics import classification_report, confusion_matrix\n",
        "import h5py\n"
      ]
    },
    {
      "cell_type": "code",
      "source": [
        "from google.colab import drive\n",
        "drive.mount('/content/drive')\n"
      ],
      "metadata": {
        "colab": {
          "base_uri": "https://localhost:8080/"
        },
        "id": "VzDb1bE6qepT",
        "outputId": "3097b120-7213-4d9c-e6c7-b022c977a721"
      },
      "execution_count": 5,
      "outputs": [
        {
          "output_type": "stream",
          "name": "stdout",
          "text": [
            "Mounted at /content/drive\n"
          ]
        }
      ]
    },
    {
      "cell_type": "code",
      "source": [
        "ls\n"
      ],
      "metadata": {
        "colab": {
          "base_uri": "https://localhost:8080/"
        },
        "id": "vXv4VpD_rbDP",
        "outputId": "924fb99d-ae6e-4af9-88b0-1dee368103c5"
      },
      "execution_count": 6,
      "outputs": [
        {
          "output_type": "stream",
          "name": "stdout",
          "text": [
            "\u001b[0m\u001b[01;34mdrive\u001b[0m/  \u001b[01;34msample_data\u001b[0m/\n"
          ]
        }
      ]
    },
    {
      "cell_type": "code",
      "source": [
        "%cd drive/MyDrive/Facial\\ Expression\\ Dataset/"
      ],
      "metadata": {
        "colab": {
          "base_uri": "https://localhost:8080/"
        },
        "id": "AeYtMYv1rb5A",
        "outputId": "913516e7-a362-4458-99d8-d8dfe13a7f2e"
      },
      "execution_count": 7,
      "outputs": [
        {
          "output_type": "stream",
          "name": "stdout",
          "text": [
            "/content/drive/MyDrive/Facial Expression Dataset\n"
          ]
        }
      ]
    },
    {
      "cell_type": "code",
      "source": [
        "!unzip Dataset.zip"
      ],
      "metadata": {
        "colab": {
          "base_uri": "https://localhost:8080/"
        },
        "id": "serkd6Dswcq3",
        "outputId": "d1679d0c-7b4b-48c3-adf0-c8e4c295fcb5"
      },
      "execution_count": 8,
      "outputs": [
        {
          "output_type": "stream",
          "name": "stdout",
          "text": [
            "Archive:  Dataset.zip\n",
            "replace fer2013.csv? [y]es, [n]o, [A]ll, [N]one, [r]ename: y\n",
            "  inflating: fer2013.csv             y\n",
            "\n",
            "replace fer2013/fer2013.csv? [y]es, [n]o, [A]ll, [N]one, [r]ename:   inflating: fer2013/fer2013.csv     \n"
          ]
        }
      ]
    },
    {
      "cell_type": "code",
      "source": [
        "import pandas as pd\n",
        "\n",
        "csv_path = '/content/drive/MyDrive/Facial Expression Dataset/fer2013.csv'\n",
        "data = pd.read_csv(csv_path)\n",
        "\n",
        "image_paths = data['pixels'].values\n",
        "labels = data['emotion'].values\n"
      ],
      "metadata": {
        "id": "vntqkC0gxfjs"
      },
      "execution_count": 9,
      "outputs": []
    },
    {
      "cell_type": "code",
      "source": [
        "# Process the image paths\n",
        "preprocessed_images = []\n",
        "for image_data in image_paths:\n",
        "    image = np.array(image_data.split(' '), dtype=np.uint8)\n",
        "    image = image.reshape((48, 48))\n",
        "    preprocessed_images.append(image)\n"
      ],
      "metadata": {
        "id": "TPisjCDPyGTu"
      },
      "execution_count": 10,
      "outputs": []
    },
    {
      "cell_type": "code",
      "source": [
        "# Convert the preprocessed data to NumPy arrays\n",
        "preprocessed_images = np.array(preprocessed_images)\n",
        "labels = np.array(labels)\n"
      ],
      "metadata": {
        "id": "rbUja4ENbUU8"
      },
      "execution_count": 11,
      "outputs": []
    },
    {
      "cell_type": "code",
      "source": [
        "# Data augmentation using ImageDataGenerator\n",
        "datagen = tf.keras.preprocessing.image.ImageDataGenerator(\n",
        "    rotation_range=10,\n",
        "    width_shift_range=0.1,\n",
        "    height_shift_range=0.1,\n",
        "    shear_range=0.1,\n",
        "    zoom_range=0.1,\n",
        "    horizontal_flip=True,\n",
        "    fill_mode='nearest'\n",
        ")"
      ],
      "metadata": {
        "id": "mP579BbH_CSU"
      },
      "execution_count": 12,
      "outputs": []
    },
    {
      "cell_type": "code",
      "source": [
        "# Generate augmented images and labels\n",
        "augmented_images = []\n",
        "augmented_labels = []\n",
        "for image, label in zip(preprocessed_images, labels):\n",
        "    image = np.expand_dims(image, axis=-1)  # Add an additional dimension for the channel\n",
        "    image = np.expand_dims(image, axis=0)  # Add an additional dimension for the batch\n",
        "    aug_iter = datagen.flow(image, save_to_dir=None, shuffle=False)\n",
        "    for aug_image in aug_iter:\n",
        "        augmented_images.append(aug_image[0])\n",
        "        augmented_labels.append(label)\n",
        "        break\n",
        "\n",
        "augmented_images = np.array(augmented_images)\n",
        "augmented_labels = np.array(augmented_labels)"
      ],
      "metadata": {
        "id": "u9PhVQNo_D63"
      },
      "execution_count": 13,
      "outputs": []
    },
    {
      "cell_type": "code",
      "source": [
        "# Train-validation-test split\n",
        "X_train, X_test, y_train, y_test = train_test_split(augmented_images, augmented_labels, test_size=0.2, random_state=42)\n",
        "X_train, X_val, y_train, y_val = train_test_split(X_train, y_train, test_size=0.2, random_state=42)"
      ],
      "metadata": {
        "id": "f6kA9pBdyTyD"
      },
      "execution_count": 14,
      "outputs": []
    },
    {
      "cell_type": "code",
      "source": [
        "# Build the deep learning model\n",
        "num_classes = len(np.unique(labels))\n",
        "model = tf.keras.Sequential([\n",
        "    tf.keras.layers.Conv2D(64, (3, 3), activation='relu', input_shape=(48, 48, 1)),\n",
        "    tf.keras.layers.MaxPooling2D((2, 2)),\n",
        "    tf.keras.layers.Conv2D(128, (3, 3), activation='relu'),\n",
        "    tf.keras.layers.MaxPooling2D((2, 2)),\n",
        "    tf.keras.layers.Conv2D(256, (3, 3), activation='relu'),\n",
        "    tf.keras.layers.MaxPooling2D((2, 2)),\n",
        "    tf.keras.layers.Flatten(),\n",
        "    tf.keras.layers.Dense(256, activation='relu'),\n",
        "    tf.keras.layers.Dense(128, activation='relu'),\n",
        "    tf.keras.layers.Dense(num_classes, activation='softmax')\n",
        "])\n",
        "initial_learning_rate = 0.001\n",
        "lr_schedule = tf.keras.optimizers.schedules.ExponentialDecay(\n",
        "    initial_learning_rate, decay_steps=10000, decay_rate=0.9\n",
        ")\n",
        "\n",
        "model.compile(optimizer=tf.keras.optimizers.Adam(learning_rate=lr_schedule),\n",
        "              loss='sparse_categorical_crossentropy',\n",
        "              metrics=['accuracy'])\n"
      ],
      "metadata": {
        "id": "uBs1DgLq6tFK"
      },
      "execution_count": 15,
      "outputs": []
    },
    {
      "cell_type": "code",
      "source": [
        "# Train the model\n",
        "history = model.fit(X_train, y_train, epochs=20, validation_data=(X_val, y_val))\n"
      ],
      "metadata": {
        "colab": {
          "base_uri": "https://localhost:8080/"
        },
        "id": "6Hk2Hhf55lzw",
        "outputId": "10939cac-ed1a-434b-b9a0-b173933f1af0"
      },
      "execution_count": 16,
      "outputs": [
        {
          "output_type": "stream",
          "name": "stdout",
          "text": [
            "Epoch 1/20\n",
            "718/718 [==============================] - 274s 378ms/step - loss: 1.9392 - accuracy: 0.2779 - val_loss: 1.7072 - val_accuracy: 0.3217\n",
            "Epoch 2/20\n",
            "718/718 [==============================] - 271s 377ms/step - loss: 1.6686 - accuracy: 0.3380 - val_loss: 1.6180 - val_accuracy: 0.3708\n",
            "Epoch 3/20\n",
            "718/718 [==============================] - 279s 388ms/step - loss: 1.5858 - accuracy: 0.3828 - val_loss: 1.5948 - val_accuracy: 0.3716\n",
            "Epoch 4/20\n",
            "718/718 [==============================] - 275s 383ms/step - loss: 1.5082 - accuracy: 0.4150 - val_loss: 1.5303 - val_accuracy: 0.4121\n",
            "Epoch 5/20\n",
            "718/718 [==============================] - 275s 383ms/step - loss: 1.4258 - accuracy: 0.4510 - val_loss: 1.5140 - val_accuracy: 0.4267\n",
            "Epoch 6/20\n",
            "718/718 [==============================] - 273s 381ms/step - loss: 1.3404 - accuracy: 0.4887 - val_loss: 1.4747 - val_accuracy: 0.4305\n",
            "Epoch 7/20\n",
            "718/718 [==============================] - 268s 374ms/step - loss: 1.2346 - accuracy: 0.5317 - val_loss: 1.4847 - val_accuracy: 0.4460\n",
            "Epoch 8/20\n",
            "718/718 [==============================] - 267s 372ms/step - loss: 1.1245 - accuracy: 0.5755 - val_loss: 1.5708 - val_accuracy: 0.4316\n",
            "Epoch 9/20\n",
            "718/718 [==============================] - 260s 362ms/step - loss: 0.9802 - accuracy: 0.6320 - val_loss: 1.7310 - val_accuracy: 0.4396\n",
            "Epoch 10/20\n",
            "718/718 [==============================] - 259s 360ms/step - loss: 0.8295 - accuracy: 0.6897 - val_loss: 1.8888 - val_accuracy: 0.4168\n",
            "Epoch 11/20\n",
            "718/718 [==============================] - 264s 367ms/step - loss: 0.6765 - accuracy: 0.7503 - val_loss: 2.1249 - val_accuracy: 0.4068\n",
            "Epoch 12/20\n",
            "718/718 [==============================] - 266s 370ms/step - loss: 0.5446 - accuracy: 0.8023 - val_loss: 2.4426 - val_accuracy: 0.4084\n",
            "Epoch 13/20\n",
            "718/718 [==============================] - 265s 370ms/step - loss: 0.4399 - accuracy: 0.8430 - val_loss: 2.6843 - val_accuracy: 0.4187\n",
            "Epoch 14/20\n",
            "718/718 [==============================] - 265s 369ms/step - loss: 0.3470 - accuracy: 0.8773 - val_loss: 3.2902 - val_accuracy: 0.3974\n",
            "Epoch 15/20\n",
            "718/718 [==============================] - 265s 369ms/step - loss: 0.3030 - accuracy: 0.8956 - val_loss: 3.3174 - val_accuracy: 0.3953\n",
            "Epoch 16/20\n",
            "718/718 [==============================] - 265s 369ms/step - loss: 0.2644 - accuracy: 0.9101 - val_loss: 3.8416 - val_accuracy: 0.3959\n",
            "Epoch 17/20\n",
            "718/718 [==============================] - 265s 369ms/step - loss: 0.2427 - accuracy: 0.9201 - val_loss: 3.8060 - val_accuracy: 0.4014\n",
            "Epoch 18/20\n",
            "718/718 [==============================] - 264s 367ms/step - loss: 0.2027 - accuracy: 0.9334 - val_loss: 4.0297 - val_accuracy: 0.4195\n",
            "Epoch 19/20\n",
            "718/718 [==============================] - 265s 369ms/step - loss: 0.1714 - accuracy: 0.9421 - val_loss: 4.5811 - val_accuracy: 0.4004\n",
            "Epoch 20/20\n",
            "718/718 [==============================] - 257s 358ms/step - loss: 0.1704 - accuracy: 0.9447 - val_loss: 4.4002 - val_accuracy: 0.3993\n"
          ]
        }
      ]
    },
    {
      "cell_type": "code",
      "source": [
        "\n",
        "# Plot accuracy and loss graphs\n",
        "plt.figure(figsize=(12, 6))\n",
        "\n",
        "# Accuracy graph\n",
        "plt.subplot(1, 2, 1)\n",
        "plt.plot(history.history['accuracy'], label='Training Accuracy')\n",
        "plt.plot(history.history['val_accuracy'], label='Validation Accuracy')\n",
        "plt.xlabel('Epoch')\n",
        "plt.ylabel('Accuracy')\n",
        "plt.legend()\n",
        "\n",
        "# Loss graph\n",
        "plt.subplot(1, 2, 2)\n",
        "plt.plot(history.history['loss'], label='Training Loss')\n",
        "plt.plot(history.history['val_loss'], label='Validation Loss')\n",
        "plt.xlabel('Epoch')\n",
        "plt.ylabel('Loss')\n",
        "plt.legend()\n",
        "\n",
        "plt.tight_layout()\n",
        "plt.show()\n",
        "\n",
        "# Evaluate the model\n",
        "loss, accuracy = model.evaluate(X_test, y_test)\n",
        "print('Test Loss:', loss)\n",
        "print('Test Accuracy:', accuracy)"
      ],
      "metadata": {
        "colab": {
          "base_uri": "https://localhost:8080/",
          "height": 659
        },
        "id": "XgwQEpwyyfTE",
        "outputId": "2e24fde8-caed-496e-a5eb-c9eab0ee594f"
      },
      "execution_count": 17,
      "outputs": [
        {
          "output_type": "display_data",
          "data": {
            "text/plain": [
              "<Figure size 1200x600 with 2 Axes>"
            ],
            "image/png": "[encoded data removed]"
          },
          "metadata": {}
        },
        {
          "output_type": "stream",
          "name": "stdout",
          "text": [
            "225/225 [==============================] - 20s 89ms/step - loss: 4.5497 - accuracy: 0.3891\n",
            "Test Loss: 4.549702167510986\n",
            "Test Accuracy: 0.38910558819770813\n"
          ]
        }
      ]
    },
    {
      "cell_type": "code",
      "source": [
        "# Generate predictions\n",
        "y_pred = np.argmax(model.predict(X_test), axis=-1)"
      ],
      "metadata": {
        "colab": {
          "base_uri": "https://localhost:8080/"
        },
        "id": "Gejh3eIUuoaF",
        "outputId": "2e00f94b-2cde-49d9-836c-3f00c1ca820d"
      },
      "execution_count": 18,
      "outputs": [
        {
          "output_type": "stream",
          "name": "stdout",
          "text": [
            "225/225 [==============================] - 20s 90ms/step\n"
          ]
        }
      ]
    },
    {
      "cell_type": "code",
      "source": [
        "# Generate classification report\n",
        "target_names = ['Angry', 'Disgust', 'Fear', 'Happy', 'Sad', 'Surprise', 'Neutral']\n",
        "print(classification_report(y_test, y_pred, target_names=target_names))"
      ],
      "metadata": {
        "colab": {
          "base_uri": "https://localhost:8080/"
        },
        "id": "GxERbxSb9Rul",
        "outputId": "73479be8-65b4-48af-b558-6932cb52bd76"
      },
      "execution_count": 19,
      "outputs": [
        {
          "output_type": "stream",
          "name": "stdout",
          "text": [
            "              precision    recall  f1-score   support\n",
            "\n",
            "       Angry       0.32      0.23      0.27       985\n",
            "     Disgust       0.10      0.09      0.09       102\n",
            "        Fear       0.23      0.27      0.25      1043\n",
            "       Happy       0.60      0.60      0.60      1765\n",
            "         Sad       0.30      0.30      0.30      1210\n",
            "    Surprise       0.53      0.43      0.48       795\n",
            "     Neutral       0.34      0.40      0.37      1278\n",
            "\n",
            "    accuracy                           0.39      7178\n",
            "   macro avg       0.34      0.33      0.34      7178\n",
            "weighted avg       0.39      0.39      0.39      7178\n",
            "\n"
          ]
        }
      ]
    },
    {
      "cell_type": "code",
      "source": [
        "# Save the model in HDF5 format\n",
        "model.save('/content/drive/MyDrive/model.h5')"
      ],
      "metadata": {
        "id": "TRltMvkhZgC6"
      },
      "execution_count": 20,
      "outputs": []
    }
  ]
}